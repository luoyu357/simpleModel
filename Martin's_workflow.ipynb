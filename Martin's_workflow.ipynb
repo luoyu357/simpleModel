{
  "nbformat": 4,
  "nbformat_minor": 0,
  "metadata": {
    "colab": {
      "provenance": []
    },
    "kernelspec": {
      "name": "python3",
      "display_name": "Python 3"
    },
    "language_info": {
      "name": "python"
    }
  },
  "cells": [
    {
      "cell_type": "code",
      "execution_count": null,
      "metadata": {
        "id": "uILtBBjb1Xrq"
      },
      "outputs": [],
      "source": [
        "import argparse\n",
        "import os\n",
        "import sys\n",
        "import time\n",
        "\n",
        "import numpy as np\n",
        "import tensorflow as tf"
      ]
    },
    {
      "cell_type": "code",
      "source": [
        "def create_datasets(classes, dtype):\n",
        "    \"\"\" Create CIFAR training and test datasets \"\"\"\n",
        "\n",
        "    # Download training and test image datasets\n",
        "    if classes == 100:\n",
        "        (x_train, y_train), (x_test, y_test) = tf.keras.datasets.cifar100.load_data(label_mode='fine')\n",
        "    elif classes == 20:\n",
        "        (x_train, y_train), (x_test, y_test) = tf.keras.datasets.cifar100.load_data(label_mode='coarse')\n",
        "    else: # classes == 10\n",
        "        (x_train, y_train), (x_test, y_test) = tf.keras.datasets.cifar10.load_data()\n",
        "\n",
        "    # Verify training and test image dataset sizes\n",
        "    assert x_train.shape == (50000, 32, 32, 3)\n",
        "    assert y_train.shape == (50000, 1)\n",
        "    assert x_test.shape == (10000, 32, 32, 3)\n",
        "    assert y_test.shape == (10000, 1)\n",
        "\n",
        "    # Normalize the 8-bit (3-channel) RGB image pixel data between 0.0\n",
        "    # and 1.0; also converts datatype from numpy.uint8 to numpy.float64\n",
        "    x_train = x_train / 255.0\n",
        "    x_test = x_test / 255.0\n",
        "\n",
        "    # Convert from NumPy arrays to TensorFlow tensors\n",
        "    x_train = tf.convert_to_tensor(value=x_train, dtype=dtype, name='x_train')\n",
        "    y_train = tf.convert_to_tensor(value=y_train, dtype=tf.uint8, name='y_train')\n",
        "    x_test = tf.convert_to_tensor(value=x_test, dtype=dtype, name='x_test')\n",
        "    y_test = tf.convert_to_tensor(value=y_test, dtype=tf.uint8, name='y_test')\n",
        "\n",
        "    # Construct TensorFlow datasets\n",
        "    train_dataset = tf.data.Dataset.from_tensor_slices((x_train, y_train))\n",
        "    test_dataset = tf.data.Dataset.from_tensor_slices((x_test, y_test))\n",
        "\n",
        "    return train_dataset, test_dataset"
      ],
      "metadata": {
        "id": "YIm_RB7Q1nCn"
      },
      "execution_count": null,
      "outputs": []
    },
    {
      "cell_type": "code",
      "source": [
        "def create_model(classes):\n",
        "    \"\"\" Specify and compile the CNN model \"\"\"\n",
        "\n",
        "    model = tf.keras.Sequential([\n",
        "        tf.keras.layers.InputLayer(input_shape=(32, 32, 3)),\n",
        "        tf.keras.layers.Conv2D(32, (3, 3), activation='relu'),\n",
        "        tf.keras.layers.MaxPooling2D((2, 2)),\n",
        "        tf.keras.layers.Conv2D(64, (3, 3), activation='relu'),\n",
        "        tf.keras.layers.MaxPooling2D((2, 2)),\n",
        "        tf.keras.layers.Conv2D(64, (3, 3), activation='relu'),\n",
        "        tf.keras.layers.Flatten(),\n",
        "        tf.keras.layers.Dense(64, activation='relu'),\n",
        "        tf.keras.layers.Dense(classes),\n",
        "    ])\n",
        "\n",
        "    model.compile(\n",
        "        optimizer=tf.keras.optimizers.Adam(),\n",
        "        loss=tf.keras.losses.SparseCategoricalCrossentropy(from_logits=True),\n",
        "        metrics=['accuracy'],\n",
        "    )\n",
        "\n",
        "    return model"
      ],
      "metadata": {
        "id": "ncJcR6I-1sV4"
      },
      "execution_count": null,
      "outputs": []
    },
    {
      "cell_type": "code",
      "source": [
        "def train_model(classes, precision, epochs, batch_size):\n",
        "    \"\"\" Train CNN on CIFAR \"\"\"\n",
        "\n",
        "    # Create training and test datasets\n",
        "    train_dataset, test_dataset = create_datasets(classes, dtype=precision)\n",
        "\n",
        "    # Prepare the datasets for training and evaluation\n",
        "    train_dataset = train_dataset.cache().shuffle(buffer_size=50000, reshuffle_each_iteration=True).batch(batch_size)\n",
        "    test_dataset = test_dataset.batch(batch_size)\n",
        "\n",
        "    # Create model\n",
        "    model = create_model(classes)\n",
        "\n",
        "    # Print summary of the model's network architecture\n",
        "    model.summary()\n",
        "\n",
        "    # Train the model on the dataset\n",
        "    model.fit(x=train_dataset, epochs=epochs, verbose=2)\n",
        "\n",
        "    # Evaluate the model and its accuracy\n",
        "    model.evaluate(x=test_dataset, verbose=2)\n",
        "\n",
        "    # Save the model\n",
        "    #model.save('saved_model.'+os.environ['SLURM_JOB_ID'])\n",
        "    # model.save('saved_model.'+os.environ['SLURM_ARRAY_JOB_ID']+'.'+os.environ['SLURM_ARRAY_TASK_ID'])\n",
        "\n",
        "    return model, test_dataset"
      ],
      "metadata": {
        "id": "qmTjG4uK18OR"
      },
      "execution_count": null,
      "outputs": []
    },
    {
      "cell_type": "code",
      "source": [
        "classes : 'CWLIntInput' = 10\n",
        "epochs : 'CWLIntInput' = 1\n",
        "batch_size : 'CWLIntInput' = 256\n",
        "output_file : 'CWLFilePathOutput' = \"./saved_model.keras\"\n"
      ],
      "metadata": {
        "id": "vfdv2h_386wx"
      },
      "execution_count": null,
      "outputs": []
    },
    {
      "cell_type": "code",
      "source": [
        "trained_model, test_dataset = train_model(classes, tf.float32, epochs, batch_size)"
      ],
      "metadata": {
        "colab": {
          "base_uri": "https://localhost:8080/"
        },
        "id": "bov-mS1b2EPl",
        "outputId": "622430bb-be9a-4c56-b63b-1c8d062490cb"
      },
      "execution_count": null,
      "outputs": [
        {
          "output_type": "stream",
          "name": "stdout",
          "text": [
            "Downloading data from https://www.cs.toronto.edu/~kriz/cifar-10-python.tar.gz\n",
            "170498071/170498071 [==============================] - 6s 0us/step\n",
            "Model: \"sequential\"\n",
            "_________________________________________________________________\n",
            " Layer (type)                Output Shape              Param #   \n",
            "=================================================================\n",
            " conv2d (Conv2D)             (None, 30, 30, 32)        896       \n",
            "                                                                 \n",
            " max_pooling2d (MaxPooling2D  (None, 15, 15, 32)       0         \n",
            " )                                                               \n",
            "                                                                 \n",
            " conv2d_1 (Conv2D)           (None, 13, 13, 64)        18496     \n",
            "                                                                 \n",
            " max_pooling2d_1 (MaxPooling  (None, 6, 6, 64)         0         \n",
            " 2D)                                                             \n",
            "                                                                 \n",
            " conv2d_2 (Conv2D)           (None, 4, 4, 64)          36928     \n",
            "                                                                 \n",
            " flatten (Flatten)           (None, 1024)              0         \n",
            "                                                                 \n",
            " dense (Dense)               (None, 64)                65600     \n",
            "                                                                 \n",
            " dense_1 (Dense)             (None, 10)                650       \n",
            "                                                                 \n",
            "=================================================================\n",
            "Total params: 122,570\n",
            "Trainable params: 122,570\n",
            "Non-trainable params: 0\n",
            "_________________________________________________________________\n",
            "196/196 - 64s - loss: 1.7296 - accuracy: 0.3642 - 64s/epoch - 329ms/step\n",
            "40/40 - 4s - loss: 1.5324 - accuracy: 0.4483 - 4s/epoch - 105ms/step\n"
          ]
        }
      ]
    },
    {
      "cell_type": "code",
      "source": [
        "trained_model.save(output_file)"
      ],
      "metadata": {
        "id": "Qr_92jSu8zrc"
      },
      "execution_count": null,
      "outputs": []
    }
  ]
}