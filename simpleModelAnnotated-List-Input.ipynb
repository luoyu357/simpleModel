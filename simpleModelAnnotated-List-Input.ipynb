{
 "cells": [
  {
   "cell_type": "code",
   "execution_count": 2,
   "metadata": {},
   "outputs": [],
   "source": [
    "import json\n",
    "import sys\n",
    "import numpy as np\n",
    "import os\n",
    "from typing import List\n",
    "from ipython2cwl.iotypes import CWLFilePathInput, CWLFilePathOutput"
   ]
  },
  {
   "cell_type": "code",
   "execution_count": 3,
   "metadata": {},
   "outputs": [],
   "source": [
    "def calc_predict(x,a,b,c):\n",
    "    y=a*x+b+c\n",
    "    return y"
   ]
  },
  {
   "cell_type": "code",
   "execution_count": 4,
   "metadata": {},
   "outputs": [],
   "source": [
    "results_dir = \"./results\""
   ]
  },
  {
   "cell_type": "code",
   "execution_count": 5,
   "metadata": {},
   "outputs": [],
   "source": [
    "a : 'CWLIntInput' = 5\n",
    "b : 'CWLIntInput' = 4\n",
    "c : 'CWLIntInput' = 6\n",
    "input_file : 'CWLFilePathInput' = \"./x.csv\"\n",
    "output_file_a : 'CWLFilePathOutput' = f\"\"\"{results_dir}/y_a.csv\"\"\"\n",
    "output_file_b : 'CWLFilePathOutput' = f\"\"\"{results_dir}/y_b.csv\"\"\"\n",
    "output_file_c : 'CWLFilePathOutput' = f\"\"\"{results_dir}/y_c.csv\"\"\"\n",
    "file_inputs: List[CWLFilePathInput] = []"
   ]
  },
  {
   "cell_type": "code",
   "execution_count": 19,
   "metadata": {},
   "outputs": [],
   "source": [
    "if not os.path.exists(results_dir):\n",
    "    os.mkdir(results_dir)"
   ]
  },
  {
   "cell_type": "code",
   "execution_count": 20,
   "metadata": {},
   "outputs": [],
   "source": [
    "x=np.genfromtxt(input_file)[1:]\n",
    "#calculate\n",
    "y=calc_predict(x,a,b,c)\n"
   ]
  },
  {
   "cell_type": "code",
   "execution_count": 21,
   "metadata": {},
   "outputs": [],
   "source": [
    "np.savetxt(output_file_a,y)\n",
    "np.savetxt(output_file_b,y)\n",
    "np.savetxt(output_file_c,y)\n"
   ]
  }
 ],
 "metadata": {
  "kernelspec": {
   "display_name": "Python 3",
   "language": "python",
   "name": "python3"
  },
  "language_info": {
   "codemirror_mode": {
    "name": "ipython",
    "version": 3
   },
   "file_extension": ".py",
   "mimetype": "text/x-python",
   "name": "python",
   "nbconvert_exporter": "python",
   "pygments_lexer": "ipython3",
   "version": "3.9.2"
  }
 },
 "nbformat": 4,
 "nbformat_minor": 4
}
